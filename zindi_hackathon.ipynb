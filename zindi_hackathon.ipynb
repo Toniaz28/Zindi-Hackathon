{
 "cells": [
  {
   "cell_type": "code",
   "execution_count": 411,
   "id": "7d470af6-e53d-4b3a-88cd-5e5a09dc8495",
   "metadata": {},
   "outputs": [],
   "source": [
    "import pandas as pd\n",
    "import numpy as np\n",
    "from sklearn.preprocessing import StandardScaler,LabelEncoder,OneHotEncoder,RobustScaler\n",
    "from sklearn.pipeline import make_pipeline\n",
    "from sklearn.impute import SimpleImputer\n",
    "from sklearn.model_selection import train_test_split\n",
    "from sklearn.linear_model import LinearRegression\n",
    "import warnings\n",
    "from sklearn.metrics import  mean_squared_error, mean_absolute_error\n",
    "from sklearn.ensemble import RandomForestRegressor\n",
    "warnings.filterwarnings('ignore')\n",
    "import matplotlib.pyplot as lib\n",
    "import catboost\n",
    "from sklearn.svm import SVR"
   ]
  },
  {
   "cell_type": "markdown",
   "id": "959269cb-94b3-43aa-b43f-3723fb8bcaad",
   "metadata": {},
   "source": [
    "## Load the dataset\n",
    "* Dataset from zindi competition"
   ]
  },
  {
   "cell_type": "code",
   "execution_count": 359,
   "id": "a18e6328-5e8d-43ef-affe-3459f8e095ef",
   "metadata": {},
   "outputs": [],
   "source": [
    "train = pd.read_csv(\"Free AI Class Hackaton/data/Train.csv\")\n",
    "test = pd.read_csv(\"Free AI Class Hackaton/data/Test.csv\")"
   ]
  },
  {
   "cell_type": "code",
   "execution_count": 360,
   "id": "41edb136-74b0-4f3e-b897-6e7702797646",
   "metadata": {},
   "outputs": [],
   "source": [
    "dfn = train.copy()\n",
    "dtn = test.copy()"
   ]
  },
  {
   "cell_type": "code",
   "execution_count": 361,
   "id": "f201d782-733e-4bc6-9de9-8702ae4c4174",
   "metadata": {},
   "outputs": [
    {
     "name": "stdout",
     "output_type": "stream",
     "text": [
      "<class 'pandas.core.frame.DataFrame'>\n",
      "RangeIndex: 7205 entries, 0 to 7204\n",
      "Data columns (total 9 columns):\n",
      " #   Column                  Non-Null Count  Dtype  \n",
      "---  ------                  --------------  -----  \n",
      " 0   VehicleID               7205 non-null   object \n",
      " 1   Location                7205 non-null   object \n",
      " 2   Maker                   7205 non-null   object \n",
      " 3   Model                   7205 non-null   object \n",
      " 4   Year                    7184 non-null   object \n",
      " 5   Colour                  7205 non-null   object \n",
      " 6   Amount (Million Naira)  7188 non-null   float64\n",
      " 7   Type                    7008 non-null   object \n",
      " 8   Distance                4845 non-null   object \n",
      "dtypes: float64(1), object(8)\n",
      "memory usage: 506.7+ KB\n"
     ]
    }
   ],
   "source": [
    "dfn.info()"
   ]
  },
  {
   "cell_type": "markdown",
   "id": "8df6a21a-adf2-4d19-a042-744391762d0d",
   "metadata": {},
   "source": [
    "### Handling Missing Values\n",
    "There are missing values in the following columns:\n",
    "* Year\n",
    "* Amount (Million Naira)\n",
    "* Type  \n",
    "* Distance \n",
    "\n",
    "from the cell above, the Distance column has almost half of its values missing missing, so the distance column should be removed.\n",
    "AS for the other columns Type and Year, use a backward-fill to impute missing values.\n",
    "For the Amount (Million Naira) which is the target column, we can't just fill with any value, we will look for a way to get the missing values"
   ]
  },
  {
   "cell_type": "code",
   "execution_count": 362,
   "id": "6e603c8b-6ed8-4796-b4a0-f3f74f395f73",
   "metadata": {},
   "outputs": [],
   "source": [
    "#  backward fill\n",
    "dfn[\"Year\"] = dfn[\"Year\"].fillna(method=\"bfill\")\n",
    "dfn[\"Type\"] = dfn[\"Type\"].fillna(method=\"bfill\")"
   ]
  },
  {
   "cell_type": "code",
   "execution_count": 363,
   "id": "c1a25e76-d1c4-4c4d-84a4-84d5ca0d8e5e",
   "metadata": {},
   "outputs": [],
   "source": [
    "# drop the distance column\n",
    "dfn.drop(columns=\"Distance\", inplace=True)"
   ]
  },
  {
   "cell_type": "code",
   "execution_count": 364,
   "id": "aa7101df-870b-4ab7-b8c0-bfb37f46db8e",
   "metadata": {},
   "outputs": [],
   "source": [
    "# make a copy of the dfn dataframe\n",
    "dfn_test = dfn.copy()"
   ]
  },
  {
   "cell_type": "code",
   "execution_count": 365,
   "id": "8a4254ed-f394-4e24-8cf3-238840ea14b7",
   "metadata": {},
   "outputs": [],
   "source": [
    "# removing the null values from the dfn_test and putting them in a variable test_data\n",
    "test_data = dfn_test[dfn_test[\"Amount (Million Naira)\"].isnull()]"
   ]
  },
  {
   "cell_type": "code",
   "execution_count": 366,
   "id": "5d96ef2d-b005-410b-a800-dccecfbb8d86",
   "metadata": {},
   "outputs": [],
   "source": [
    "# drop all null values in the dfn_test dataframe\n",
    "dfn_test.dropna(inplace=True)"
   ]
  },
  {
   "cell_type": "code",
   "execution_count": 367,
   "id": "1d66bb9d-17f6-4bfe-b2f4-4dd1ca975331",
   "metadata": {},
   "outputs": [
    {
     "data": {
      "text/plain": [
       "((17, 8), (7188, 8))"
      ]
     },
     "execution_count": 367,
     "metadata": {},
     "output_type": "execute_result"
    }
   ],
   "source": [
    "test_data.shape, dfn_test.shape"
   ]
  },
  {
   "cell_type": "markdown",
   "id": "eea90a82-e6e8-4c21-8d55-16ea4f974b87",
   "metadata": {},
   "source": [
    "#### Getting the Null values in target data(\"Amount (Million Naira)\")\n",
    "To achieve this, \n",
    "1. Make the dfn_test as training set(i.e split into X_train and y_train)\n",
    "2. Make the test_data the test set since we want to predict the null values \n",
    "   * split into X_test, and y_test"
   ]
  },
  {
   "cell_type": "code",
   "execution_count": 368,
   "id": "a2e83bb6-0219-4efe-941f-6b3b5eef09fe",
   "metadata": {},
   "outputs": [],
   "source": [
    "# drop the target column(\"Amount (Million Naira)\", and the VehicleID)\n",
    "X_train = dfn_test.drop([\"Amount (Million Naira)\", \"VehicleID\"], axis=1)"
   ]
  },
  {
   "cell_type": "code",
   "execution_count": 369,
   "id": "76dbf6c7-5474-4610-a3f2-abb54e984231",
   "metadata": {},
   "outputs": [],
   "source": [
    "# y_train is the target column in the dfn_test data\n",
    "y_train = dfn_test[\"Amount (Million Naira)\"]"
   ]
  },
  {
   "cell_type": "code",
   "execution_count": 370,
   "id": "074d2f23-a5bc-40d6-a32b-d2724d4e89e3",
   "metadata": {},
   "outputs": [],
   "source": [
    "# drop the target column(\"Amount (Million Naira)\", and the VehicleID) in the test data\n",
    "X_test = test_data.drop([\"Amount (Million Naira)\", \"VehicleID\"], axis=1)"
   ]
  },
  {
   "cell_type": "code",
   "execution_count": 371,
   "id": "bb8e2a73-a73e-4fa4-a6b7-f31260282a1f",
   "metadata": {},
   "outputs": [],
   "source": [
    "# y_train is the target column in the test_data\n",
    "y_test = test_data[\"Amount (Million Naira)\"]"
   ]
  },
  {
   "cell_type": "code",
   "execution_count": 372,
   "id": "c6a5ab73-014e-481d-8f48-b8ce855d5276",
   "metadata": {},
   "outputs": [
    {
     "data": {
      "text/plain": [
       "((7188, 6), (7188,))"
      ]
     },
     "execution_count": 372,
     "metadata": {},
     "output_type": "execute_result"
    }
   ],
   "source": [
    "X_train.shape, y_train.shape"
   ]
  },
  {
   "cell_type": "code",
   "execution_count": 373,
   "id": "1a3a12d3-2e69-465d-bddd-b7fe1da10dc8",
   "metadata": {},
   "outputs": [
    {
     "data": {
      "text/plain": [
       "((17, 6), (17,))"
      ]
     },
     "execution_count": 373,
     "metadata": {},
     "output_type": "execute_result"
    }
   ],
   "source": [
    "X_test.shape, y_test.shape"
   ]
  },
  {
   "cell_type": "code",
   "execution_count": 374,
   "id": "1a6ea6fb-5741-4517-873e-8add26e2df86",
   "metadata": {},
   "outputs": [],
   "source": [
    "# encode the features in X_train and X_testst(turning categories to numerical values)\n",
    "ohe = OneHotEncoder(handle_unknown=\"ignore\")\n",
    "X_train = ohe.fit_transform(X_train)\n",
    "X_test = ohe.transform(X_test)"
   ]
  },
  {
   "cell_type": "code",
   "execution_count": 375,
   "id": "eeb6e142-ca01-4609-a41d-427979e8e089",
   "metadata": {},
   "outputs": [
    {
     "data": {
      "text/html": [
       "<style>#sk-container-id-18 {color: black;background-color: white;}#sk-container-id-18 pre{padding: 0;}#sk-container-id-18 div.sk-toggleable {background-color: white;}#sk-container-id-18 label.sk-toggleable__label {cursor: pointer;display: block;width: 100%;margin-bottom: 0;padding: 0.3em;box-sizing: border-box;text-align: center;}#sk-container-id-18 label.sk-toggleable__label-arrow:before {content: \"▸\";float: left;margin-right: 0.25em;color: #696969;}#sk-container-id-18 label.sk-toggleable__label-arrow:hover:before {color: black;}#sk-container-id-18 div.sk-estimator:hover label.sk-toggleable__label-arrow:before {color: black;}#sk-container-id-18 div.sk-toggleable__content {max-height: 0;max-width: 0;overflow: hidden;text-align: left;background-color: #f0f8ff;}#sk-container-id-18 div.sk-toggleable__content pre {margin: 0.2em;color: black;border-radius: 0.25em;background-color: #f0f8ff;}#sk-container-id-18 input.sk-toggleable__control:checked~div.sk-toggleable__content {max-height: 200px;max-width: 100%;overflow: auto;}#sk-container-id-18 input.sk-toggleable__control:checked~label.sk-toggleable__label-arrow:before {content: \"▾\";}#sk-container-id-18 div.sk-estimator input.sk-toggleable__control:checked~label.sk-toggleable__label {background-color: #d4ebff;}#sk-container-id-18 div.sk-label input.sk-toggleable__control:checked~label.sk-toggleable__label {background-color: #d4ebff;}#sk-container-id-18 input.sk-hidden--visually {border: 0;clip: rect(1px 1px 1px 1px);clip: rect(1px, 1px, 1px, 1px);height: 1px;margin: -1px;overflow: hidden;padding: 0;position: absolute;width: 1px;}#sk-container-id-18 div.sk-estimator {font-family: monospace;background-color: #f0f8ff;border: 1px dotted black;border-radius: 0.25em;box-sizing: border-box;margin-bottom: 0.5em;}#sk-container-id-18 div.sk-estimator:hover {background-color: #d4ebff;}#sk-container-id-18 div.sk-parallel-item::after {content: \"\";width: 100%;border-bottom: 1px solid gray;flex-grow: 1;}#sk-container-id-18 div.sk-label:hover label.sk-toggleable__label {background-color: #d4ebff;}#sk-container-id-18 div.sk-serial::before {content: \"\";position: absolute;border-left: 1px solid gray;box-sizing: border-box;top: 0;bottom: 0;left: 50%;z-index: 0;}#sk-container-id-18 div.sk-serial {display: flex;flex-direction: column;align-items: center;background-color: white;padding-right: 0.2em;padding-left: 0.2em;position: relative;}#sk-container-id-18 div.sk-item {position: relative;z-index: 1;}#sk-container-id-18 div.sk-parallel {display: flex;align-items: stretch;justify-content: center;background-color: white;position: relative;}#sk-container-id-18 div.sk-item::before, #sk-container-id-18 div.sk-parallel-item::before {content: \"\";position: absolute;border-left: 1px solid gray;box-sizing: border-box;top: 0;bottom: 0;left: 50%;z-index: -1;}#sk-container-id-18 div.sk-parallel-item {display: flex;flex-direction: column;z-index: 1;position: relative;background-color: white;}#sk-container-id-18 div.sk-parallel-item:first-child::after {align-self: flex-end;width: 50%;}#sk-container-id-18 div.sk-parallel-item:last-child::after {align-self: flex-start;width: 50%;}#sk-container-id-18 div.sk-parallel-item:only-child::after {width: 0;}#sk-container-id-18 div.sk-dashed-wrapped {border: 1px dashed gray;margin: 0 0.4em 0.5em 0.4em;box-sizing: border-box;padding-bottom: 0.4em;background-color: white;}#sk-container-id-18 div.sk-label label {font-family: monospace;font-weight: bold;display: inline-block;line-height: 1.2em;}#sk-container-id-18 div.sk-label-container {text-align: center;}#sk-container-id-18 div.sk-container {/* jupyter's `normalize.less` sets `[hidden] { display: none; }` but bootstrap.min.css set `[hidden] { display: none !important; }` so we also need the `!important` here to be able to override the default hidden behavior on the sphinx rendered scikit-learn.org. See: https://github.com/scikit-learn/scikit-learn/issues/21755 */display: inline-block !important;position: relative;}#sk-container-id-18 div.sk-text-repr-fallback {display: none;}</style><div id=\"sk-container-id-18\" class=\"sk-top-container\"><div class=\"sk-text-repr-fallback\"><pre>SVR()</pre><b>In a Jupyter environment, please rerun this cell to show the HTML representation or trust the notebook. <br />On GitHub, the HTML representation is unable to render, please try loading this page with nbviewer.org.</b></div><div class=\"sk-container\" hidden><div class=\"sk-item\"><div class=\"sk-estimator sk-toggleable\"><input class=\"sk-toggleable__control sk-hidden--visually\" id=\"sk-estimator-id-31\" type=\"checkbox\" checked><label for=\"sk-estimator-id-31\" class=\"sk-toggleable__label sk-toggleable__label-arrow\">SVR</label><div class=\"sk-toggleable__content\"><pre>SVR()</pre></div></div></div></div></div>"
      ],
      "text/plain": [
       "SVR()"
      ]
     },
     "execution_count": 375,
     "metadata": {},
     "output_type": "execute_result"
    }
   ],
   "source": [
    "# use the svm model from sklearn \n",
    "svr = SVR()\n",
    "svr.fit(X_train, y_train)"
   ]
  },
  {
   "cell_type": "code",
   "execution_count": 376,
   "id": "1ac3d870-844d-4e4d-8e49-7e9449457647",
   "metadata": {},
   "outputs": [],
   "source": [
    "# predict the X_test and pass it in a nariable nan_pred\n",
    "nan_pred = svr.predict(X_test)"
   ]
  },
  {
   "cell_type": "code",
   "execution_count": 377,
   "id": "8f6dfd18-5e67-4e97-9337-f558ac3841a1",
   "metadata": {},
   "outputs": [
    {
     "data": {
      "text/plain": [
       "array([ 4.40021863,  4.6970309 ,  6.95777145,  5.37913197,  2.6404342 ,\n",
       "        6.85611827,  7.10795238,  4.90670271,  9.19555142,  8.899922  ,\n",
       "        4.3002125 , 12.00902049,  5.69675028,  2.96198268, 20.13949388,\n",
       "        2.87854262, 16.79889624])"
      ]
     },
     "execution_count": 377,
     "metadata": {},
     "output_type": "execute_result"
    }
   ],
   "source": [
    "nan_pred"
   ]
  },
  {
   "cell_type": "code",
   "execution_count": 378,
   "id": "cc5e9f90-9a1c-4a5a-a917-360257c7d589",
   "metadata": {},
   "outputs": [
    {
     "data": {
      "text/plain": [
       "(17,)"
      ]
     },
     "execution_count": 378,
     "metadata": {},
     "output_type": "execute_result"
    }
   ],
   "source": [
    "nan_pred.shape"
   ]
  },
  {
   "cell_type": "code",
   "execution_count": 379,
   "id": "c0ddfb63-1b85-44f6-8b0d-18c3200a9e0d",
   "metadata": {},
   "outputs": [],
   "source": [
    "# create a new column in the test_data called \"nan_pred\" and pass it the predicted values(nan_pred)\n",
    "test_data[\"nan_pred\"] = nan_pred"
   ]
  },
  {
   "cell_type": "code",
   "execution_count": 380,
   "id": "08fc1e0e-3442-4864-b086-7b1ee9612d41",
   "metadata": {},
   "outputs": [
    {
     "data": {
      "text/plain": [
       "(17, 9)"
      ]
     },
     "execution_count": 380,
     "metadata": {},
     "output_type": "execute_result"
    }
   ],
   "source": [
    "test_data.shape"
   ]
  },
  {
   "cell_type": "code",
   "execution_count": 381,
   "id": "40b09621-f58d-4952-bcb0-ef0e29b22aa2",
   "metadata": {},
   "outputs": [],
   "source": [
    "# make the test_data[\"Amount (Million Naira)\"] equal to the nan_pred column and drop the nan_pred column.\n",
    "test_data[\"Amount (Million Naira)\"]=test_data[\"nan_pred\"]\n",
    "test_data.drop([\"nan_pred\"], axis=1, inplace=True)"
   ]
  },
  {
   "cell_type": "code",
   "execution_count": 382,
   "id": "2016175b-f28e-4f4d-b85a-6bdacd634b24",
   "metadata": {},
   "outputs": [],
   "source": [
    "# concatenate the splitted datasets(i.e test_data and dfn_test) to get back the complete data set\n",
    "dfn = pd.concat([test_data, dfn_test], axis=0)"
   ]
  },
  {
   "cell_type": "code",
   "execution_count": 383,
   "id": "c32a8c47-08c0-4a2c-8de5-9dd9598631ef",
   "metadata": {},
   "outputs": [
    {
     "name": "stdout",
     "output_type": "stream",
     "text": [
      "<class 'pandas.core.frame.DataFrame'>\n",
      "Int64Index: 7205 entries, 288 to 7204\n",
      "Data columns (total 8 columns):\n",
      " #   Column                  Non-Null Count  Dtype  \n",
      "---  ------                  --------------  -----  \n",
      " 0   VehicleID               7205 non-null   object \n",
      " 1   Location                7205 non-null   object \n",
      " 2   Maker                   7205 non-null   object \n",
      " 3   Model                   7205 non-null   object \n",
      " 4   Year                    7205 non-null   object \n",
      " 5   Colour                  7205 non-null   object \n",
      " 6   Amount (Million Naira)  7205 non-null   float64\n",
      " 7   Type                    7205 non-null   object \n",
      "dtypes: float64(1), object(7)\n",
      "memory usage: 506.6+ KB\n"
     ]
    }
   ],
   "source": [
    "# clean train data set with no null values\n",
    "dfn.info()"
   ]
  },
  {
   "cell_type": "code",
   "execution_count": 384,
   "id": "b0f58667-003d-425c-9425-1ac425fda612",
   "metadata": {},
   "outputs": [],
   "source": [
    "# Also drop the vehicleid column \n",
    "dfn.drop(columns=\"VehicleID\", inplace=True)"
   ]
  },
  {
   "cell_type": "code",
   "execution_count": 385,
   "id": "acfb9537-5b9a-4ba8-a5dc-e7a640248959",
   "metadata": {},
   "outputs": [
    {
     "name": "stdout",
     "output_type": "stream",
     "text": [
      "<class 'pandas.core.frame.DataFrame'>\n",
      "RangeIndex: 2061 entries, 0 to 2060\n",
      "Data columns (total 8 columns):\n",
      " #   Column     Non-Null Count  Dtype  \n",
      "---  ------     --------------  -----  \n",
      " 0   VehicleID  2061 non-null   object \n",
      " 1   Location   2061 non-null   object \n",
      " 2   Maker      2061 non-null   object \n",
      " 3   Model      2061 non-null   object \n",
      " 4   Year       2059 non-null   object \n",
      " 5   Colour     2061 non-null   object \n",
      " 6   Type       2007 non-null   object \n",
      " 7   Distance   1385 non-null   float64\n",
      "dtypes: float64(1), object(7)\n",
      "memory usage: 128.9+ KB\n"
     ]
    }
   ],
   "source": [
    "dtn.info()"
   ]
  },
  {
   "cell_type": "markdown",
   "id": "507f1657-f3cd-4c86-adc7-eab5fd6b953e",
   "metadata": {},
   "source": [
    "### Handling missing values in the test dataset\n",
    "handle the same way as the train data"
   ]
  },
  {
   "cell_type": "code",
   "execution_count": 386,
   "id": "fa52c8a4-b5b2-43b2-970c-4d4c30c2ac69",
   "metadata": {},
   "outputs": [],
   "source": [
    "#  backward fill\n",
    "dtn[\"Year\"] = dtn[\"Year\"].fillna(method=\"bfill\")\n",
    "dtn[\"Type\"] = dtn[\"Type\"].fillna(method=\"bfill\")\n",
    "dtn[\"Colour\"] = dtn[\"Colour\"].fillna(method=\"bfill\")"
   ]
  },
  {
   "cell_type": "code",
   "execution_count": 387,
   "id": "d0c8e26a-d10c-4189-944d-4372bbf7b208",
   "metadata": {},
   "outputs": [],
   "source": [
    "# also remove the distance column\n",
    "dtn.drop(columns=\"Distance\", inplace=True)"
   ]
  },
  {
   "cell_type": "code",
   "execution_count": 388,
   "id": "0810bee6-693a-4a6b-a6ec-ee69ae343796",
   "metadata": {},
   "outputs": [
    {
     "name": "stdout",
     "output_type": "stream",
     "text": [
      "<class 'pandas.core.frame.DataFrame'>\n",
      "RangeIndex: 2061 entries, 0 to 2060\n",
      "Data columns (total 7 columns):\n",
      " #   Column     Non-Null Count  Dtype \n",
      "---  ------     --------------  ----- \n",
      " 0   VehicleID  2061 non-null   object\n",
      " 1   Location   2061 non-null   object\n",
      " 2   Maker      2061 non-null   object\n",
      " 3   Model      2061 non-null   object\n",
      " 4   Year       2061 non-null   object\n",
      " 5   Colour     2061 non-null   object\n",
      " 6   Type       2061 non-null   object\n",
      "dtypes: object(7)\n",
      "memory usage: 112.8+ KB\n"
     ]
    }
   ],
   "source": [
    "dtn.info()"
   ]
  },
  {
   "cell_type": "code",
   "execution_count": 389,
   "id": "1082f81a-abc9-4523-af2e-dc57693693df",
   "metadata": {},
   "outputs": [],
   "source": [
    "# Also drop the vehicleid column \n",
    "dtn.drop(columns=\"VehicleID\", inplace=True)"
   ]
  },
  {
   "cell_type": "markdown",
   "id": "e7cd3263-e901-4a7c-9a22-82f6d319531e",
   "metadata": {},
   "source": [
    "### Convert categorical features into numerical values"
   ]
  },
  {
   "cell_type": "code",
   "execution_count": 390,
   "id": "13fb375c-2237-4a88-96c4-34e20622bb3c",
   "metadata": {},
   "outputs": [],
   "source": [
    "cat_col = [\"Location\", \"Maker\", \"Model\", \"Year\", \"Colour\", \"Type\"]"
   ]
  },
  {
   "cell_type": "code",
   "execution_count": 391,
   "id": "b30642d0-96e2-4941-847d-df9fda1a6ea9",
   "metadata": {},
   "outputs": [],
   "source": [
    "def encoder(df):\n",
    "    for col in cat_col:\n",
    "        lab = LabelEncoder()#CountEncoder(normalize=True)\n",
    "        lab.fit(df[col])\n",
    "        df[col] = lab.transform(df[col])"
   ]
  },
  {
   "cell_type": "code",
   "execution_count": 392,
   "id": "41685710-1b1c-4f2a-89a7-12afac3e26d6",
   "metadata": {},
   "outputs": [],
   "source": [
    "encoder(dfn)\n",
    "encoder(dtn)"
   ]
  },
  {
   "cell_type": "code",
   "execution_count": 393,
   "id": "aa674390-bd15-4882-85f0-5f94f99e5950",
   "metadata": {},
   "outputs": [
    {
     "data": {
      "text/html": [
       "<div>\n",
       "<style scoped>\n",
       "    .dataframe tbody tr th:only-of-type {\n",
       "        vertical-align: middle;\n",
       "    }\n",
       "\n",
       "    .dataframe tbody tr th {\n",
       "        vertical-align: top;\n",
       "    }\n",
       "\n",
       "    .dataframe thead th {\n",
       "        text-align: right;\n",
       "    }\n",
       "</style>\n",
       "<table border=\"1\" class=\"dataframe\">\n",
       "  <thead>\n",
       "    <tr style=\"text-align: right;\">\n",
       "      <th></th>\n",
       "      <th>Location</th>\n",
       "      <th>Maker</th>\n",
       "      <th>Model</th>\n",
       "      <th>Year</th>\n",
       "      <th>Colour</th>\n",
       "      <th>Type</th>\n",
       "    </tr>\n",
       "  </thead>\n",
       "  <tbody>\n",
       "    <tr>\n",
       "      <th>0</th>\n",
       "      <td>0</td>\n",
       "      <td>2</td>\n",
       "      <td>8</td>\n",
       "      <td>14</td>\n",
       "      <td>16</td>\n",
       "      <td>1</td>\n",
       "    </tr>\n",
       "    <tr>\n",
       "      <th>1</th>\n",
       "      <td>2</td>\n",
       "      <td>37</td>\n",
       "      <td>123</td>\n",
       "      <td>19</td>\n",
       "      <td>16</td>\n",
       "      <td>1</td>\n",
       "    </tr>\n",
       "    <tr>\n",
       "      <th>2</th>\n",
       "      <td>2</td>\n",
       "      <td>37</td>\n",
       "      <td>272</td>\n",
       "      <td>11</td>\n",
       "      <td>7</td>\n",
       "      <td>1</td>\n",
       "    </tr>\n",
       "    <tr>\n",
       "      <th>3</th>\n",
       "      <td>2</td>\n",
       "      <td>37</td>\n",
       "      <td>123</td>\n",
       "      <td>17</td>\n",
       "      <td>8</td>\n",
       "      <td>1</td>\n",
       "    </tr>\n",
       "    <tr>\n",
       "      <th>4</th>\n",
       "      <td>2</td>\n",
       "      <td>20</td>\n",
       "      <td>192</td>\n",
       "      <td>19</td>\n",
       "      <td>12</td>\n",
       "      <td>1</td>\n",
       "    </tr>\n",
       "    <tr>\n",
       "      <th>...</th>\n",
       "      <td>...</td>\n",
       "      <td>...</td>\n",
       "      <td>...</td>\n",
       "      <td>...</td>\n",
       "      <td>...</td>\n",
       "      <td>...</td>\n",
       "    </tr>\n",
       "    <tr>\n",
       "      <th>2056</th>\n",
       "      <td>0</td>\n",
       "      <td>37</td>\n",
       "      <td>74</td>\n",
       "      <td>26</td>\n",
       "      <td>12</td>\n",
       "      <td>1</td>\n",
       "    </tr>\n",
       "    <tr>\n",
       "      <th>2057</th>\n",
       "      <td>1</td>\n",
       "      <td>1</td>\n",
       "      <td>391</td>\n",
       "      <td>17</td>\n",
       "      <td>3</td>\n",
       "      <td>1</td>\n",
       "    </tr>\n",
       "    <tr>\n",
       "      <th>2058</th>\n",
       "      <td>1</td>\n",
       "      <td>37</td>\n",
       "      <td>123</td>\n",
       "      <td>21</td>\n",
       "      <td>2</td>\n",
       "      <td>1</td>\n",
       "    </tr>\n",
       "    <tr>\n",
       "      <th>2059</th>\n",
       "      <td>0</td>\n",
       "      <td>20</td>\n",
       "      <td>302</td>\n",
       "      <td>19</td>\n",
       "      <td>16</td>\n",
       "      <td>1</td>\n",
       "    </tr>\n",
       "    <tr>\n",
       "      <th>2060</th>\n",
       "      <td>0</td>\n",
       "      <td>30</td>\n",
       "      <td>532</td>\n",
       "      <td>15</td>\n",
       "      <td>13</td>\n",
       "      <td>1</td>\n",
       "    </tr>\n",
       "  </tbody>\n",
       "</table>\n",
       "<p>2061 rows × 6 columns</p>\n",
       "</div>"
      ],
      "text/plain": [
       "      Location  Maker  Model  Year  Colour  Type\n",
       "0            0      2      8    14      16     1\n",
       "1            2     37    123    19      16     1\n",
       "2            2     37    272    11       7     1\n",
       "3            2     37    123    17       8     1\n",
       "4            2     20    192    19      12     1\n",
       "...        ...    ...    ...   ...     ...   ...\n",
       "2056         0     37     74    26      12     1\n",
       "2057         1      1    391    17       3     1\n",
       "2058         1     37    123    21       2     1\n",
       "2059         0     20    302    19      16     1\n",
       "2060         0     30    532    15      13     1\n",
       "\n",
       "[2061 rows x 6 columns]"
      ]
     },
     "execution_count": 393,
     "metadata": {},
     "output_type": "execute_result"
    }
   ],
   "source": [
    "dtn"
   ]
  },
  {
   "cell_type": "markdown",
   "id": "d187c951-c136-4e5d-bbef-72f19f140e87",
   "metadata": {},
   "source": [
    "### Split the Data"
   ]
  },
  {
   "cell_type": "code",
   "execution_count": 394,
   "id": "b6c12e22-b3d1-41ea-b4f8-02cbd753e4af",
   "metadata": {},
   "outputs": [],
   "source": [
    "# split into X and y\n",
    "target = \"Amount (Million Naira)\"\n",
    "X = dfn.drop(columns=target)\n",
    "y = dfn[target]"
   ]
  },
  {
   "cell_type": "code",
   "execution_count": 395,
   "id": "acb6fc67-b758-47ec-a049-a421c51b77e2",
   "metadata": {},
   "outputs": [],
   "source": [
    "# split into train and test set\n",
    "X_train, X_test, y_train, y_test = train_test_split(X, y, test_size=0.2, random_state=42)"
   ]
  },
  {
   "cell_type": "code",
   "execution_count": 396,
   "id": "6cb1191f-4e6d-4701-b0b0-78d2f72c50b2",
   "metadata": {},
   "outputs": [
    {
     "data": {
      "text/plain": [
       "((1441, 6), (5764, 6), (5764,), (1441,))"
      ]
     },
     "execution_count": 396,
     "metadata": {},
     "output_type": "execute_result"
    }
   ],
   "source": [
    "X_test.shape, X_train.shape, y_train.shape, y_test.shape"
   ]
  },
  {
   "cell_type": "markdown",
   "id": "a4bed3da-c0b9-4cda-b155-14cf24b6562f",
   "metadata": {},
   "source": [
    "# Build Model"
   ]
  },
  {
   "cell_type": "code",
   "execution_count": 400,
   "id": "88864af8-a836-4023-b048-de76c918d7d5",
   "metadata": {},
   "outputs": [],
   "source": [
    "model = make_pipeline(\n",
    "    SimpleImputer(),\n",
    "    LinearRegression()\n",
    ")"
   ]
  },
  {
   "cell_type": "code",
   "execution_count": 401,
   "id": "d089deb0-8e27-4520-a7ee-e9346857ae62",
   "metadata": {},
   "outputs": [
    {
     "data": {
      "text/html": [
       "<style>#sk-container-id-20 {color: black;background-color: white;}#sk-container-id-20 pre{padding: 0;}#sk-container-id-20 div.sk-toggleable {background-color: white;}#sk-container-id-20 label.sk-toggleable__label {cursor: pointer;display: block;width: 100%;margin-bottom: 0;padding: 0.3em;box-sizing: border-box;text-align: center;}#sk-container-id-20 label.sk-toggleable__label-arrow:before {content: \"▸\";float: left;margin-right: 0.25em;color: #696969;}#sk-container-id-20 label.sk-toggleable__label-arrow:hover:before {color: black;}#sk-container-id-20 div.sk-estimator:hover label.sk-toggleable__label-arrow:before {color: black;}#sk-container-id-20 div.sk-toggleable__content {max-height: 0;max-width: 0;overflow: hidden;text-align: left;background-color: #f0f8ff;}#sk-container-id-20 div.sk-toggleable__content pre {margin: 0.2em;color: black;border-radius: 0.25em;background-color: #f0f8ff;}#sk-container-id-20 input.sk-toggleable__control:checked~div.sk-toggleable__content {max-height: 200px;max-width: 100%;overflow: auto;}#sk-container-id-20 input.sk-toggleable__control:checked~label.sk-toggleable__label-arrow:before {content: \"▾\";}#sk-container-id-20 div.sk-estimator input.sk-toggleable__control:checked~label.sk-toggleable__label {background-color: #d4ebff;}#sk-container-id-20 div.sk-label input.sk-toggleable__control:checked~label.sk-toggleable__label {background-color: #d4ebff;}#sk-container-id-20 input.sk-hidden--visually {border: 0;clip: rect(1px 1px 1px 1px);clip: rect(1px, 1px, 1px, 1px);height: 1px;margin: -1px;overflow: hidden;padding: 0;position: absolute;width: 1px;}#sk-container-id-20 div.sk-estimator {font-family: monospace;background-color: #f0f8ff;border: 1px dotted black;border-radius: 0.25em;box-sizing: border-box;margin-bottom: 0.5em;}#sk-container-id-20 div.sk-estimator:hover {background-color: #d4ebff;}#sk-container-id-20 div.sk-parallel-item::after {content: \"\";width: 100%;border-bottom: 1px solid gray;flex-grow: 1;}#sk-container-id-20 div.sk-label:hover label.sk-toggleable__label {background-color: #d4ebff;}#sk-container-id-20 div.sk-serial::before {content: \"\";position: absolute;border-left: 1px solid gray;box-sizing: border-box;top: 0;bottom: 0;left: 50%;z-index: 0;}#sk-container-id-20 div.sk-serial {display: flex;flex-direction: column;align-items: center;background-color: white;padding-right: 0.2em;padding-left: 0.2em;position: relative;}#sk-container-id-20 div.sk-item {position: relative;z-index: 1;}#sk-container-id-20 div.sk-parallel {display: flex;align-items: stretch;justify-content: center;background-color: white;position: relative;}#sk-container-id-20 div.sk-item::before, #sk-container-id-20 div.sk-parallel-item::before {content: \"\";position: absolute;border-left: 1px solid gray;box-sizing: border-box;top: 0;bottom: 0;left: 50%;z-index: -1;}#sk-container-id-20 div.sk-parallel-item {display: flex;flex-direction: column;z-index: 1;position: relative;background-color: white;}#sk-container-id-20 div.sk-parallel-item:first-child::after {align-self: flex-end;width: 50%;}#sk-container-id-20 div.sk-parallel-item:last-child::after {align-self: flex-start;width: 50%;}#sk-container-id-20 div.sk-parallel-item:only-child::after {width: 0;}#sk-container-id-20 div.sk-dashed-wrapped {border: 1px dashed gray;margin: 0 0.4em 0.5em 0.4em;box-sizing: border-box;padding-bottom: 0.4em;background-color: white;}#sk-container-id-20 div.sk-label label {font-family: monospace;font-weight: bold;display: inline-block;line-height: 1.2em;}#sk-container-id-20 div.sk-label-container {text-align: center;}#sk-container-id-20 div.sk-container {/* jupyter's `normalize.less` sets `[hidden] { display: none; }` but bootstrap.min.css set `[hidden] { display: none !important; }` so we also need the `!important` here to be able to override the default hidden behavior on the sphinx rendered scikit-learn.org. See: https://github.com/scikit-learn/scikit-learn/issues/21755 */display: inline-block !important;position: relative;}#sk-container-id-20 div.sk-text-repr-fallback {display: none;}</style><div id=\"sk-container-id-20\" class=\"sk-top-container\"><div class=\"sk-text-repr-fallback\"><pre>Pipeline(steps=[(&#x27;simpleimputer&#x27;, SimpleImputer()),\n",
       "                (&#x27;linearregression&#x27;, LinearRegression())])</pre><b>In a Jupyter environment, please rerun this cell to show the HTML representation or trust the notebook. <br />On GitHub, the HTML representation is unable to render, please try loading this page with nbviewer.org.</b></div><div class=\"sk-container\" hidden><div class=\"sk-item sk-dashed-wrapped\"><div class=\"sk-label-container\"><div class=\"sk-label sk-toggleable\"><input class=\"sk-toggleable__control sk-hidden--visually\" id=\"sk-estimator-id-35\" type=\"checkbox\" ><label for=\"sk-estimator-id-35\" class=\"sk-toggleable__label sk-toggleable__label-arrow\">Pipeline</label><div class=\"sk-toggleable__content\"><pre>Pipeline(steps=[(&#x27;simpleimputer&#x27;, SimpleImputer()),\n",
       "                (&#x27;linearregression&#x27;, LinearRegression())])</pre></div></div></div><div class=\"sk-serial\"><div class=\"sk-item\"><div class=\"sk-estimator sk-toggleable\"><input class=\"sk-toggleable__control sk-hidden--visually\" id=\"sk-estimator-id-36\" type=\"checkbox\" ><label for=\"sk-estimator-id-36\" class=\"sk-toggleable__label sk-toggleable__label-arrow\">SimpleImputer</label><div class=\"sk-toggleable__content\"><pre>SimpleImputer()</pre></div></div></div><div class=\"sk-item\"><div class=\"sk-estimator sk-toggleable\"><input class=\"sk-toggleable__control sk-hidden--visually\" id=\"sk-estimator-id-37\" type=\"checkbox\" ><label for=\"sk-estimator-id-37\" class=\"sk-toggleable__label sk-toggleable__label-arrow\">LinearRegression</label><div class=\"sk-toggleable__content\"><pre>LinearRegression()</pre></div></div></div></div></div></div></div>"
      ],
      "text/plain": [
       "Pipeline(steps=[('simpleimputer', SimpleImputer()),\n",
       "                ('linearregression', LinearRegression())])"
      ]
     },
     "execution_count": 401,
     "metadata": {},
     "output_type": "execute_result"
    }
   ],
   "source": [
    "model.fit(X_train, y_train)"
   ]
  },
  {
   "cell_type": "code",
   "execution_count": 402,
   "id": "33706334-149a-438c-9c7a-2f6ce51c3d69",
   "metadata": {},
   "outputs": [],
   "source": [
    "lr_pred = model.predict(X_test)"
   ]
  },
  {
   "cell_type": "code",
   "execution_count": 403,
   "id": "dd888f42-5371-430c-8756-ed78b0fd9826",
   "metadata": {},
   "outputs": [
    {
     "data": {
      "text/plain": [
       "array([  3.5017654 ,  17.38473009, -39.46815819, ...,   5.0750743 ,\n",
       "        13.82893854,   5.12721432])"
      ]
     },
     "execution_count": 403,
     "metadata": {},
     "output_type": "execute_result"
    }
   ],
   "source": [
    "lr_pred"
   ]
  },
  {
   "cell_type": "code",
   "execution_count": 404,
   "id": "696fe4fa-d8c5-4c0a-8ed8-5b36d4a6c8f5",
   "metadata": {},
   "outputs": [],
   "source": [
    "MSE = mean_squared_error(y_test, lr_pred)"
   ]
  },
  {
   "cell_type": "code",
   "execution_count": 405,
   "id": "634505f6-0ddc-4ecf-b55b-e65e170ae5fc",
   "metadata": {},
   "outputs": [
    {
     "data": {
      "text/plain": [
       "433.0904243365802"
      ]
     },
     "execution_count": 405,
     "metadata": {},
     "output_type": "execute_result"
    }
   ],
   "source": [
    "MSE"
   ]
  },
  {
   "cell_type": "code",
   "execution_count": null,
   "id": "38376ae7-c941-4d70-8350-53cfafdb87ea",
   "metadata": {},
   "outputs": [],
   "source": []
  }
 ],
 "metadata": {
  "kernelspec": {
   "display_name": "Python 3 (ipykernel)",
   "language": "python",
   "name": "python3"
  },
  "language_info": {
   "codemirror_mode": {
    "name": "ipython",
    "version": 3
   },
   "file_extension": ".py",
   "mimetype": "text/x-python",
   "name": "python",
   "nbconvert_exporter": "python",
   "pygments_lexer": "ipython3",
   "version": "3.10.5"
  }
 },
 "nbformat": 4,
 "nbformat_minor": 5
}
